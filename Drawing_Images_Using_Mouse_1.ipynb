{
 "cells": [
  {
   "cell_type": "code",
   "execution_count": 1,
   "metadata": {},
   "outputs": [],
   "source": [
    "import cv2\n",
    "import numpy as np\n",
    "\n",
    "def draw_circle(event,x,y,flags,param):\n",
    "    if event ==  cv2.EVENT_LBUTTONDOWN:\n",
    "        cv2.circle(img,(x,y),100,color=(255,0,0), thickness=5)\n",
    "        \n",
    "    elif event == cv2.EVENT_RBUTTONDOWN:\n",
    "        cv2.rectangle(img,(x,y),(x+100,y+100), color=(0,155,100), thickness=5)\n",
    "    \n",
    "    elif event == cv2.EVENT_MOUSEHWHEEL:\n",
    "        cv2.line(img, (x,y), (x+50, y+50), color=(255,0,0), thickness=5)\n",
    "        \n",
    "    elif event == cv2.EVENT_MBUTTONDBLCLK:\n",
    "        vertices = np.array([[x,y],[x+100,y+100],[x+200,y+200],[x+300,y+300],[x-100,y-100]], dtype=np.int32)\n",
    "        pts = vertices.reshape((-1,1,2))\n",
    "        cv2.polylines(img, [pts], isClosed=True, color=(200,200,200), thickness = 5)\n",
    "        \n",
    "\n",
    "# def draw_rectangle(event,x,y,flag,params):\n",
    "#     if event==cv2.EVENT_RBUTTONDOWN:\n",
    "#         cv2.rectangle(img,(x,y),(x+100,y+100), color=(0,155,100), thickness=5)\n",
    "\n",
    "\n",
    "# used to create a window with a suitable name\n",
    "cv2.namedWindow(winname='image')\n",
    "\n",
    "# Triggers the callback function after listening the event\n",
    "cv2.setMouseCallback('image', draw_circle)\n",
    "\n",
    "\n",
    "img = cv2.imread('Computer-Vision-with-Python/Computer-Vision-with-Python/DATA/00-puppy.jpg')\n",
    "# cv2.circle(img, center=(512,512), radius=50, color=(255,0,0), thickness=5)\n",
    "while True:\n",
    "    \n",
    "    cv2.imshow('image',img)\n",
    "    if cv2.waitKey(100) & 0xFF==27:\n",
    "        break\n",
    "cv2.destroyAllWindows()"
   ]
  },
  {
   "cell_type": "code",
   "execution_count": null,
   "metadata": {},
   "outputs": [],
   "source": []
  }
 ],
 "metadata": {
  "kernelspec": {
   "display_name": "Python 3",
   "language": "python",
   "name": "python3"
  },
  "language_info": {
   "codemirror_mode": {
    "name": "ipython",
    "version": 3
   },
   "file_extension": ".py",
   "mimetype": "text/x-python",
   "name": "python",
   "nbconvert_exporter": "python",
   "pygments_lexer": "ipython3",
   "version": "3.6.6"
  }
 },
 "nbformat": 4,
 "nbformat_minor": 2
}
