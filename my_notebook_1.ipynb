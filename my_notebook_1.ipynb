{
 "cells": [
  {
   "cell_type": "code",
   "execution_count": 1,
   "metadata": {},
   "outputs": [
    {
     "name": "stdout",
     "output_type": "stream",
     "text": [
      "yoo\n"
     ]
    }
   ],
   "source": [
    "print('yoo')"
   ]
  },
  {
   "cell_type": "code",
   "execution_count": 1,
   "metadata": {},
   "outputs": [],
   "source": [
    "import numpy as np"
   ]
  },
  {
   "cell_type": "code",
   "execution_count": 2,
   "metadata": {},
   "outputs": [
    {
     "data": {
      "text/plain": [
       "array([1, 2, 3, 4, 5])"
      ]
     },
     "execution_count": 2,
     "metadata": {},
     "output_type": "execute_result"
    }
   ],
   "source": [
    "my_list = [1,2,3,4,5]\n",
    "my_array = np.array(my_list)\n",
    "my_array"
   ]
  },
  {
   "cell_type": "code",
   "execution_count": 3,
   "metadata": {},
   "outputs": [
    {
     "data": {
      "text/plain": [
       "numpy.ndarray"
      ]
     },
     "execution_count": 3,
     "metadata": {},
     "output_type": "execute_result"
    }
   ],
   "source": [
    "type(my_array)"
   ]
  },
  {
   "cell_type": "code",
   "execution_count": 9,
   "metadata": {},
   "outputs": [
    {
     "data": {
      "text/plain": [
       "array([0, 2, 4, 6, 8])"
      ]
     },
     "execution_count": 9,
     "metadata": {},
     "output_type": "execute_result"
    }
   ],
   "source": [
    "np.arange(0,10,2)"
   ]
  },
  {
   "cell_type": "code",
   "execution_count": 7,
   "metadata": {},
   "outputs": [
    {
     "name": "stdout",
     "output_type": "stream",
     "text": [
      "sorry for that!\n",
      "heyy\n",
      "heyy\n",
      "sorry for that!\n",
      "sorry for that!\n"
     ]
    }
   ],
   "source": [
    "for i in np.arange(0,10,2):\n",
    "    if i in my_array:\n",
    "        print('heyy')\n",
    "    else:\n",
    "        print('sorry for that!')"
   ]
  },
  {
   "cell_type": "code",
   "execution_count": 10,
   "metadata": {},
   "outputs": [
    {
     "data": {
      "text/plain": [
       "array([[0., 0., 0., 0.],\n",
       "       [0., 0., 0., 0.],\n",
       "       [0., 0., 0., 0.],\n",
       "       [0., 0., 0., 0.]])"
      ]
     },
     "execution_count": 10,
     "metadata": {},
     "output_type": "execute_result"
    }
   ],
   "source": [
    "np.zeros(shape=(4,4))"
   ]
  },
  {
   "cell_type": "code",
   "execution_count": 11,
   "metadata": {},
   "outputs": [
    {
     "data": {
      "text/plain": [
       "numpy.ndarray"
      ]
     },
     "execution_count": 11,
     "metadata": {},
     "output_type": "execute_result"
    }
   ],
   "source": [
    "type(np.zeros(shape=(5,5)))"
   ]
  },
  {
   "cell_type": "code",
   "execution_count": 12,
   "metadata": {},
   "outputs": [
    {
     "data": {
      "text/plain": [
       "array([[1., 1.],\n",
       "       [1., 1.],\n",
       "       [1., 1.],\n",
       "       [1., 1.],\n",
       "       [1., 1.],\n",
       "       [1., 1.],\n",
       "       [1., 1.]])"
      ]
     },
     "execution_count": 12,
     "metadata": {},
     "output_type": "execute_result"
    }
   ],
   "source": [
    "np.ones(shape=(7,2))"
   ]
  },
  {
   "cell_type": "code",
   "execution_count": null,
   "metadata": {},
   "outputs": [],
   "source": []
  },
  {
   "cell_type": "code",
   "execution_count": null,
   "metadata": {},
   "outputs": [],
   "source": []
  },
  {
   "cell_type": "code",
   "execution_count": null,
   "metadata": {},
   "outputs": [],
   "source": []
  },
  {
   "cell_type": "code",
   "execution_count": null,
   "metadata": {},
   "outputs": [],
   "source": []
  },
  {
   "cell_type": "code",
   "execution_count": null,
   "metadata": {},
   "outputs": [],
   "source": []
  },
  {
   "cell_type": "code",
   "execution_count": 32,
   "metadata": {},
   "outputs": [
    {
     "data": {
      "text/plain": [
       "array([7, 5, 6, 2, 9, 3])"
      ]
     },
     "execution_count": 32,
     "metadata": {},
     "output_type": "execute_result"
    }
   ],
   "source": [
    "np.random.seed(1)\n",
    "random_arr = np.random.randint(2,10,6)\n",
    "random_arr"
   ]
  },
  {
   "cell_type": "code",
   "execution_count": 33,
   "metadata": {},
   "outputs": [
    {
     "data": {
      "text/plain": [
       "9"
      ]
     },
     "execution_count": 33,
     "metadata": {},
     "output_type": "execute_result"
    }
   ],
   "source": [
    "random_arr.max()"
   ]
  },
  {
   "cell_type": "code",
   "execution_count": 34,
   "metadata": {},
   "outputs": [
    {
     "data": {
      "text/plain": [
       "4"
      ]
     },
     "execution_count": 34,
     "metadata": {},
     "output_type": "execute_result"
    }
   ],
   "source": [
    "random_arr.argmax()"
   ]
  },
  {
   "cell_type": "code",
   "execution_count": 35,
   "metadata": {},
   "outputs": [
    {
     "data": {
      "text/plain": [
       "2"
      ]
     },
     "execution_count": 35,
     "metadata": {},
     "output_type": "execute_result"
    }
   ],
   "source": [
    "random_arr.min()"
   ]
  },
  {
   "cell_type": "code",
   "execution_count": 36,
   "metadata": {},
   "outputs": [
    {
     "data": {
      "text/plain": [
       "3"
      ]
     },
     "execution_count": 36,
     "metadata": {},
     "output_type": "execute_result"
    }
   ],
   "source": [
    "random_arr.argmin()"
   ]
  },
  {
   "cell_type": "code",
   "execution_count": 37,
   "metadata": {},
   "outputs": [
    {
     "data": {
      "text/plain": [
       "5.333333333333333"
      ]
     },
     "execution_count": 37,
     "metadata": {},
     "output_type": "execute_result"
    }
   ],
   "source": [
    "random_arr.mean()"
   ]
  },
  {
   "cell_type": "code",
   "execution_count": 39,
   "metadata": {},
   "outputs": [
    {
     "data": {
      "text/plain": [
       "3"
      ]
     },
     "execution_count": 39,
     "metadata": {},
     "output_type": "execute_result"
    }
   ],
   "source": [
    "random_arr.argmin()"
   ]
  },
  {
   "cell_type": "code",
   "execution_count": 41,
   "metadata": {},
   "outputs": [
    {
     "data": {
      "text/plain": [
       "(6,)"
      ]
     },
     "execution_count": 41,
     "metadata": {},
     "output_type": "execute_result"
    }
   ],
   "source": [
    "random_arr.shape"
   ]
  },
  {
   "cell_type": "code",
   "execution_count": 42,
   "metadata": {},
   "outputs": [
    {
     "data": {
      "text/plain": [
       "array([[7, 5, 6],\n",
       "       [2, 9, 3]])"
      ]
     },
     "execution_count": 42,
     "metadata": {},
     "output_type": "execute_result"
    }
   ],
   "source": [
    "resized_arr = random_arr.reshape(2,3)\n",
    "resized_arr"
   ]
  },
  {
   "cell_type": "code",
   "execution_count": null,
   "metadata": {},
   "outputs": [],
   "source": []
  },
  {
   "cell_type": "code",
   "execution_count": null,
   "metadata": {},
   "outputs": [],
   "source": []
  },
  {
   "cell_type": "code",
   "execution_count": null,
   "metadata": {},
   "outputs": [],
   "source": []
  },
  {
   "cell_type": "code",
   "execution_count": 48,
   "metadata": {},
   "outputs": [
    {
     "data": {
      "text/plain": [
       "array([[35, 81, 28, 22, 38, 41, 74, 77],\n",
       "       [70, 25, 48, 50, 62, 44, 54,  0],\n",
       "       [86, 16, 19,  9, 92, 51, 10, 68],\n",
       "       [23, 14, 63, 21, 46,  3, 56, 88],\n",
       "       [80, 46, 54, 79, 71, 14, 77, 15],\n",
       "       [25, 53, 84, 58, 85, 29, 44, 37],\n",
       "       [22, 91, 54, 76, 12, 59, 26, 76],\n",
       "       [71, 87, 39, 43, 76, 38, 91, 69],\n",
       "       [98, 33, 43, 26, 56, 69, 73, 52],\n",
       "       [89, 27, 43,  1, 82, 94, 96, 26]])"
      ]
     },
     "execution_count": 48,
     "metadata": {},
     "output_type": "execute_result"
    }
   ],
   "source": [
    "arr1 = np.arange(0,100).reshape(10,10)\n",
    "arr1\n",
    "arr2 = np.random.randint(0,100,80).reshape(10,8)\n",
    "arr2"
   ]
  },
  {
   "cell_type": "code",
   "execution_count": 54,
   "metadata": {},
   "outputs": [
    {
     "data": {
      "text/plain": [
       "array([[81, 28, 22, 38, 41],\n",
       "       [25, 48, 50, 62, 44],\n",
       "       [16, 19,  9, 92, 51],\n",
       "       [14, 63, 21, 46,  3],\n",
       "       [46, 54, 79, 71, 14]])"
      ]
     },
     "execution_count": 54,
     "metadata": {},
     "output_type": "execute_result"
    }
   ],
   "source": [
    "arr2[0:5,1:6]"
   ]
  },
  {
   "cell_type": "code",
   "execution_count": 55,
   "metadata": {},
   "outputs": [
    {
     "data": {
      "text/plain": [
       "array([[81],\n",
       "       [25],\n",
       "       [16],\n",
       "       [14],\n",
       "       [46],\n",
       "       [53],\n",
       "       [91],\n",
       "       [87],\n",
       "       [33],\n",
       "       [27]])"
      ]
     },
     "execution_count": 55,
     "metadata": {},
     "output_type": "execute_result"
    }
   ],
   "source": [
    "arr2[0:,1].reshape(10,1)"
   ]
  },
  {
   "cell_type": "code",
   "execution_count": 57,
   "metadata": {},
   "outputs": [
    {
     "data": {
      "text/plain": [
       "array([[35,  0,  0,  0,  0,  0,  0,  0],\n",
       "       [70,  0,  0,  0,  0,  0,  0,  0],\n",
       "       [86,  0,  0,  0,  0,  0,  0,  0],\n",
       "       [23,  0,  0,  0,  0,  0,  0,  0],\n",
       "       [80, 46, 54, 79, 71, 14, 77, 15],\n",
       "       [25, 53, 84, 58, 85, 29, 44, 37],\n",
       "       [22, 91, 54, 76, 12, 59, 26, 76],\n",
       "       [71, 87, 39, 43, 76, 38, 91, 69],\n",
       "       [98, 33, 43, 26, 56, 69, 73, 52],\n",
       "       [89, 27, 43,  1, 82, 94, 96, 26]])"
      ]
     },
     "execution_count": 57,
     "metadata": {},
     "output_type": "execute_result"
    }
   ],
   "source": [
    "arr2[0:4,1:]=0\n",
    "arr2"
   ]
  },
  {
   "cell_type": "code",
   "execution_count": 58,
   "metadata": {},
   "outputs": [
    {
     "data": {
      "text/plain": [
       "array([[35,  0,  0,  0,  0,  0,  0,  0],\n",
       "       [70,  0,  0,  0,  0,  0,  0,  0],\n",
       "       [86,  0,  0,  0,  0,  0,  0,  0],\n",
       "       [23,  0,  0,  0,  0,  0,  0,  0],\n",
       "       [80, 46, 54, 79, 71, 14, 77, 15],\n",
       "       [25, 53, 84, 58, 85, 29, 44, 37],\n",
       "       [22, 91, 54, 76, 12, 59, 26, 76],\n",
       "       [71, 87, 39, 43, 76, 38, 91, 69],\n",
       "       [98, 33, 43, 26, 56, 69, 73, 52],\n",
       "       [89, 27, 43,  1, 82, 94, 96, 26]])"
      ]
     },
     "execution_count": 58,
     "metadata": {},
     "output_type": "execute_result"
    }
   ],
   "source": [
    "arr2"
   ]
  },
  {
   "cell_type": "code",
   "execution_count": 59,
   "metadata": {},
   "outputs": [
    {
     "data": {
      "text/plain": [
       "array([[35,  0,  0,  0,  0,  0,  0,  0],\n",
       "       [70,  0,  0,  0,  0,  0,  0,  0],\n",
       "       [86,  0,  0,  0,  0,  0,  0,  0],\n",
       "       [23,  0,  0,  0,  0,  0,  0,  0],\n",
       "       [80, 46, 54, 79, 71, 14, 77, 15],\n",
       "       [25, 53, 84, 58, 85, 29, 44, 37],\n",
       "       [22, 91, 54, 76, 12, 59, 26, 76],\n",
       "       [71, 87, 39, 43, 76, 38, 91, 69],\n",
       "       [98, 33, 43, 26, 56, 69, 73, 52],\n",
       "       [89, 27, 43,  1, 82, 94, 96, 26]])"
      ]
     },
     "execution_count": 59,
     "metadata": {},
     "output_type": "execute_result"
    }
   ],
   "source": [
    "my_new_arr = arr2.copy()\n",
    "my_new_arr"
   ]
  },
  {
   "cell_type": "code",
   "execution_count": 61,
   "metadata": {},
   "outputs": [
    {
     "data": {
      "text/plain": [
       "array([[35,  0,  0,  0,  0,  0,  0,  0],\n",
       "       [70,  0,  0,  0,  0,  0,  0,  0],\n",
       "       [86,  0,  0,  0,  0,  0,  0,  0],\n",
       "       [23,  0,  0,  0,  0,  0,  0,  0],\n",
       "       [80,  0,  0,  0, 71, 14, 77, 15],\n",
       "       [25,  0,  0,  0, 85, 29, 44, 37],\n",
       "       [22,  0,  0,  0, 12, 59, 26, 76],\n",
       "       [71,  0,  0,  0, 76, 38, 91, 69],\n",
       "       [98,  0,  0,  0, 56, 69, 73, 52],\n",
       "       [89,  0,  0,  0, 82, 94, 96, 26]])"
      ]
     },
     "execution_count": 61,
     "metadata": {},
     "output_type": "execute_result"
    }
   ],
   "source": [
    "my_new_arr[0:, 1:4] = 0\n",
    "my_new_arr"
   ]
  },
  {
   "cell_type": "code",
   "execution_count": 62,
   "metadata": {},
   "outputs": [
    {
     "data": {
      "text/plain": [
       "array([[35,  0,  0,  0,  0,  0,  0,  0],\n",
       "       [70,  0,  0,  0,  0,  0,  0,  0],\n",
       "       [86,  0,  0,  0,  0,  0,  0,  0],\n",
       "       [23,  0,  0,  0,  0,  0,  0,  0],\n",
       "       [80, 46, 54, 79, 71, 14, 77, 15],\n",
       "       [25, 53, 84, 58, 85, 29, 44, 37],\n",
       "       [22, 91, 54, 76, 12, 59, 26, 76],\n",
       "       [71, 87, 39, 43, 76, 38, 91, 69],\n",
       "       [98, 33, 43, 26, 56, 69, 73, 52],\n",
       "       [89, 27, 43,  1, 82, 94, 96, 26]])"
      ]
     },
     "execution_count": 62,
     "metadata": {},
     "output_type": "execute_result"
    }
   ],
   "source": [
    "arr2"
   ]
  }
 ],
 "metadata": {
  "kernelspec": {
   "display_name": "Python 3 (ipykernel)",
   "language": "python",
   "name": "python3"
  },
  "language_info": {
   "codemirror_mode": {
    "name": "ipython",
    "version": 3
   },
   "file_extension": ".py",
   "mimetype": "text/x-python",
   "name": "python",
   "nbconvert_exporter": "python",
   "pygments_lexer": "ipython3",
   "version": "3.9.7"
  }
 },
 "nbformat": 4,
 "nbformat_minor": 2
}
