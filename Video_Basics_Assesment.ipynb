{
 "cells": [
  {
   "cell_type": "code",
   "execution_count": 10,
   "metadata": {},
   "outputs": [],
   "source": [
    "import cv2\n",
    "\n",
    "pt1=(0,0)\n",
    "radius = 0\n",
    "drawing=False\n",
    "pt2 = (0,0)\n",
    "rad=0\n",
    "\n",
    "#Callback method for drawing the circle\n",
    "# def draw_circle(event, x, y, flags, params):\n",
    "#     global pt1, radius, drawing\n",
    "    \n",
    "#     if event == cv2.EVENT_LBUTTONDOWN:\n",
    "#         if drawing==True:\n",
    "#             pt1=(0,0)\n",
    "#             radius = 0\n",
    "#             drawing=False\n",
    "#         if drawing==False:\n",
    "#             drawing = True\n",
    "#             pt1 = (x,y)\n",
    "#             radius = 70\n",
    "\n",
    "def draw_circle_two_points(event, x, y, flags, params):\n",
    "    global pt1, pt2, drawing\n",
    "    \n",
    "    if event==cv2.EVENT_LBUTTONDOWN:\n",
    "        if drawing==False:\n",
    "            pt1 = (x,y)\n",
    "            drawing = True\n",
    "        if drawing==True:\n",
    "            pt2 = (x,y)\n",
    "            \n",
    "# Capturing the live video camera            \n",
    "capture = cv2.VideoCapture(0)\n",
    "\n",
    "# setting the window name\n",
    "cv2.namedWindow('live_video')\n",
    "\n",
    "# Calling the draw_circle method by callback\n",
    "# cv2.setMouseCallback('live_video', draw_circle)\n",
    "cv2.setMouseCallback('live_video', draw_circle_two_points)\n",
    "# Displaying the video\n",
    "while True:\n",
    "    ret, frame = capture.read()\n",
    "    \n",
    "#     Drawing the circle by clicking once\n",
    "#     if drawing:\n",
    "#         cv2.circle(frame,pt1,radius,color=(0,0,255),thickness=2)\n",
    "\n",
    "#     Drawing the circle by clicking twice\n",
    "    \n",
    "    if drawing:\n",
    "#         Finding the distance between the two points\n",
    "        rad = ((pt1[0]-pt2[0])**2 + (pt1[1]-pt2[1])**2)**0.5\n",
    "        cv2.circle(frame,pt1,int(rad),(0,0,255),2)\n",
    "#         drawing=False\n",
    "    \n",
    "    cv2.imshow('live_video', frame)\n",
    "    \n",
    "    if cv2.waitKey(20) & 0XFF==27:\n",
    "        break\n",
    "cv2.destroyAllWindows()\n",
    "capture.release()"
   ]
  },
  {
   "cell_type": "code",
   "execution_count": 6,
   "metadata": {},
   "outputs": [
    {
     "data": {
      "text/plain": [
       "8.246211251235321"
      ]
     },
     "execution_count": 6,
     "metadata": {},
     "output_type": "execute_result"
    }
   ],
   "source": [
    "(((8-6)**2) + ((9-1)**2))**0.5"
   ]
  }
 ],
 "metadata": {
  "kernelspec": {
   "display_name": "Python 3",
   "language": "python",
   "name": "python3"
  },
  "language_info": {
   "codemirror_mode": {
    "name": "ipython",
    "version": 3
   },
   "file_extension": ".py",
   "mimetype": "text/x-python",
   "name": "python",
   "nbconvert_exporter": "python",
   "pygments_lexer": "ipython3",
   "version": "3.6.6"
  }
 },
 "nbformat": 4,
 "nbformat_minor": 2
}
